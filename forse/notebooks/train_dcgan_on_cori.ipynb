{
 "cells": [
  {
   "cell_type": "code",
   "execution_count": 1,
   "metadata": {},
   "outputs": [
    {
     "name": "stderr",
     "output_type": "stream",
     "text": [
      "Using TensorFlow backend.\n"
     ]
    }
   ],
   "source": [
    "from forse.networks.dcgan import *\n",
    "import matplotlib.pyplot as plt\n",
    "from forse.tools import *"
   ]
  },
  {
   "cell_type": "code",
   "execution_count": 2,
   "metadata": {},
   "outputs": [],
   "source": [
    "dcgan = DCGAN(output_directory='/global/homes/k/krach/scratch/NNforFG/DCGAN/tests', img_size=(64, 64))"
   ]
  },
  {
   "cell_type": "code",
   "execution_count": 3,
   "metadata": {},
   "outputs": [
    {
     "name": "stdout",
     "output_type": "stream",
     "text": [
      "WARNING:tensorflow:From /usr/common/software/tensorflow/gpu-tensorflow/1.13.1-py36/lib/python3.6/site-packages/tensorflow/python/framework/op_def_library.py:263: colocate_with (from tensorflow.python.framework.ops) is deprecated and will be removed in a future version.\n",
      "Instructions for updating:\n",
      "Colocations handled automatically by placer.\n",
      "WARNING:tensorflow:From /usr/common/software/tensorflow/gpu-tensorflow/1.13.1-py36/lib/python3.6/site-packages/keras/backend/tensorflow_backend.py:3445: calling dropout (from tensorflow.python.ops.nn_ops) with keep_prob is deprecated and will be removed in a future version.\n",
      "Instructions for updating:\n",
      "Please use `rate` instead of `keep_prob`. Rate should be set to `rate = 1 - keep_prob`.\n",
      "Training Data Shape:  (800, 64, 64, 1)\n",
      "WARNING:tensorflow:From /usr/common/software/tensorflow/gpu-tensorflow/1.13.1-py36/lib/python3.6/site-packages/tensorflow/python/ops/math_ops.py:3066: to_int32 (from tensorflow.python.ops.math_ops) is deprecated and will be removed in a future version.\n",
      "Instructions for updating:\n",
      "Use tf.cast instead.\n"
     ]
    },
    {
     "name": "stderr",
     "output_type": "stream",
     "text": [
      "/usr/common/software/tensorflow/gpu-tensorflow/1.13.1-py36/lib/python3.6/site-packages/keras/engine/training.py:490: UserWarning: Discrepancy between trainable weights and collected trainable weights, did you set `model.trainable` without calling `model.compile` after ?\n",
      "  'Discrepancy between trainable weights and collected trainable'\n"
     ]
    },
    {
     "name": "stdout",
     "output_type": "stream",
     "text": [
      "0 [D loss: 2.3365237712860107 | D Accuracy: 31.25] [G loss: 0.8198785781860352]\n",
      "1 [D loss: 0.7118649482727051 | D Accuracy: 59.375] [G loss: 0.6959409713745117]\n",
      "2 [D loss: 0.9929590821266174 | D Accuracy: 37.5] [G loss: 3.060602903366089]\n",
      "3 [D loss: 1.354258418083191 | D Accuracy: 34.375] [G loss: 1.8091731071472168]\n",
      "4 [D loss: 0.701034665107727 | D Accuracy: 71.875] [G loss: 1.6853151321411133]\n",
      "5 [D loss: 0.8772628903388977 | D Accuracy: 53.125] [G loss: 2.8245110511779785]\n",
      "6 [D loss: 0.17480626702308655 | D Accuracy: 100.0] [G loss: 2.2451930046081543]\n",
      "7 [D loss: 0.9335829019546509 | D Accuracy: 50.0] [G loss: 2.0048656463623047]\n",
      "8 [D loss: 0.8353530168533325 | D Accuracy: 62.5] [G loss: 3.1724064350128174]\n",
      "9 [D loss: 1.1839549541473389 | D Accuracy: 40.625] [G loss: 4.280172348022461]\n"
     ]
    }
   ],
   "source": [
    "training_path = '/global/homes/k/krach/scratch/NNforFG/training_set/'\n",
    "training_file = 'training_set_1000patches_20x20deg_T_HR1deg_LR5deg_Npix64_set2.npy'\n",
    "patch_file = training_path+training_file\n",
    "dcgan.train(epochs=10, patches_file=patch_file, batch_size=32, save_interval=1)"
   ]
  },
  {
   "cell_type": "code",
   "execution_count": null,
   "metadata": {},
   "outputs": [],
   "source": []
  }
 ],
 "metadata": {
  "kernelspec": {
   "display_name": "tensorflow-gpu/1.13.1-py36",
   "language": "python",
   "name": "tensorflow_gpu_1.13.1_py36"
  },
  "language_info": {
   "codemirror_mode": {
    "name": "ipython",
    "version": 3
   },
   "file_extension": ".py",
   "mimetype": "text/x-python",
   "name": "python",
   "nbconvert_exporter": "python",
   "pygments_lexer": "ipython3",
   "version": "3.6.5"
  }
 },
 "nbformat": 4,
 "nbformat_minor": 4
}
