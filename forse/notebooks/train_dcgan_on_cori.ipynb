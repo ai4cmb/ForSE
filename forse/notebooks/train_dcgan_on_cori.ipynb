{
 "cells": [
  {
   "cell_type": "code",
   "execution_count": 1,
   "metadata": {},
   "outputs": [
    {
     "name": "stderr",
     "output_type": "stream",
     "text": [
      "Using TensorFlow backend.\n"
     ]
    }
   ],
   "source": [
    "from forse.networks.dcgan import *\n",
    "import matplotlib.pyplot as plt\n",
    "from forse.tools import *"
   ]
  },
  {
   "cell_type": "code",
   "execution_count": 2,
   "metadata": {},
   "outputs": [],
   "source": [
    "dcgan = DCGAN(output_directory='/global/homes/k/krach/scratch/NNforFG/DCGAN/opt', img_size=(64, 64))"
   ]
  },
  {
   "cell_type": "code",
   "execution_count": 3,
   "metadata": {},
   "outputs": [
    {
     "name": "stdout",
     "output_type": "stream",
     "text": [
      "WARNING:tensorflow:From /usr/common/software/tensorflow/gpu-tensorflow/1.13.1-py36/lib/python3.6/site-packages/tensorflow/python/framework/op_def_library.py:263: colocate_with (from tensorflow.python.framework.ops) is deprecated and will be removed in a future version.\n",
      "Instructions for updating:\n",
      "Colocations handled automatically by placer.\n",
      "WARNING:tensorflow:From /usr/common/software/tensorflow/gpu-tensorflow/1.13.1-py36/lib/python3.6/site-packages/keras/backend/tensorflow_backend.py:3445: calling dropout (from tensorflow.python.ops.nn_ops) with keep_prob is deprecated and will be removed in a future version.\n",
      "Instructions for updating:\n",
      "Please use `rate` instead of `keep_prob`. Rate should be set to `rate = 1 - keep_prob`.\n",
      "Training Data Shape:  (800, 64, 64, 1)\n",
      "_________________________________________________________________\n",
      "Layer (type)                 Output Shape              Param #   \n",
      "=================================================================\n",
      "input_1 (InputLayer)         (None, 64, 64, 1)         0         \n",
      "_________________________________________________________________\n",
      "sequential_1 (Sequential)    (None, 1)                 1092353   \n",
      "=================================================================\n",
      "Total params: 2,184,322\n",
      "Trainable params: 1,091,969\n",
      "Non-trainable params: 1,092,353\n",
      "_________________________________________________________________\n",
      "WARNING:tensorflow:From /usr/common/software/tensorflow/gpu-tensorflow/1.13.1-py36/lib/python3.6/site-packages/tensorflow/python/ops/math_ops.py:3066: to_int32 (from tensorflow.python.ops.math_ops) is deprecated and will be removed in a future version.\n",
      "Instructions for updating:\n",
      "Use tf.cast instead.\n"
     ]
    },
    {
     "name": "stderr",
     "output_type": "stream",
     "text": [
      "/usr/common/software/tensorflow/gpu-tensorflow/1.13.1-py36/lib/python3.6/site-packages/keras/engine/training.py:490: UserWarning: Discrepancy between trainable weights and collected trainable weights, did you set `model.trainable` without calling `model.compile` after ?\n",
      "  'Discrepancy between trainable weights and collected trainable'\n"
     ]
    },
    {
     "name": "stdout",
     "output_type": "stream",
     "text": [
      "0\n",
      "200/200 [==============================] - 0s 1ms/step\n",
      "200/200 [==============================] - 0s 183us/step\n",
      "[0.5807226061820984, 0.995] [0.7222570872306824, 0.08]\n",
      "1000\n",
      "200/200 [==============================] - 0s 169us/step\n",
      "200/200 [==============================] - 0s 174us/step\n",
      "[0.4293146800994873, 1.0] [1.0584217357635497, 0.0]\n",
      "2000\n",
      "200/200 [==============================] - 0s 176us/step\n",
      "200/200 [==============================] - 0s 178us/step\n",
      "[0.4630468440055847, 1.0] [0.9948229336738587, 0.0]\n",
      "3000\n",
      "200/200 [==============================] - 0s 172us/step\n",
      "200/200 [==============================] - 0s 175us/step\n",
      "[0.32499996066093445, 1.0] [1.2804192781448365, 0.0]\n",
      "4000\n",
      "200/200 [==============================] - 0s 171us/step\n",
      "200/200 [==============================] - 0s 176us/step\n",
      "[0.23526751041412353, 1.0] [1.568862361907959, 0.0]\n"
     ]
    }
   ],
   "source": [
    "training_path = '/global/homes/k/krach/scratch/NNforFG/training_set/'\n",
    "training_file = 'training_set_1000patches_20x20deg_T_HR1deg_LR5deg_Npix64_lat20.npy'\n",
    "patch_file = training_path+training_file\n",
    "dcgan.train(epochs=5000, patches_file=patch_file, batch_size=32, save_interval=1000, seed=3875)"
   ]
  },
  {
   "cell_type": "code",
   "execution_count": 19,
   "metadata": {},
   "outputs": [],
   "source": [
    "def smooth_accuracy(y_true, y_pred):\n",
    "        return K.mean(K.equal(K.round(y_true), K.round(y_pred)))"
   ]
  },
  {
   "cell_type": "code",
   "execution_count": 20,
   "metadata": {},
   "outputs": [],
   "source": [
    "dir_models = '/global/homes/k/krach/scratch/NNforFG/DCGAN/opt/lat20/models/'\n",
    "dcgan.discriminator = load_model(dir_models+'discrim_15000.h5', custom_objects={'smooth_accuracy': smooth_accuracy})\n",
    "dcgan.generator = load_model(dir_models+'generat_15000.h5', custom_objects={'smooth_accuracy': smooth_accuracy})"
   ]
  },
  {
   "cell_type": "code",
   "execution_count": 4,
   "metadata": {},
   "outputs": [
    {
     "name": "stderr",
     "output_type": "stream",
     "text": [
      "/usr/common/software/tensorflow/gpu-tensorflow/1.13.1-py36/lib/python3.6/site-packages/keras/engine/saving.py:327: UserWarning: Error in loading the saved optimizer state. As a result, your model is starting with a freshly initialized optimizer.\n",
      "  warnings.warn('Error in loading the saved optimizer '\n"
     ]
    }
   ],
   "source": [
    "dir_models = '/global/homes/k/krach/scratch/NNforFG/DCGAN/tests/ratio/models/pswap_10/'\n",
    "dcgan.discriminator = load_model(dir_models+'discrim_99999.h5')\n",
    "dcgan.generator = load_model(dir_models+'generat_99999.h5')"
   ]
  },
  {
   "cell_type": "code",
   "execution_count": 21,
   "metadata": {},
   "outputs": [],
   "source": [
    "X_train, X_test, Y_train, Y_test = load_training_set(training_path+training_file, seed=1235)\n",
    "gen_imgs_test = dcgan.generator.predict(X_test)\n",
    "gen_imgs_train = dcgan.generator.predict(X_train)"
   ]
  },
  {
   "cell_type": "code",
   "execution_count": 22,
   "metadata": {},
   "outputs": [
    {
     "data": {
      "text/plain": [
       "<matplotlib.image.AxesImage at 0x2ab00ad8f4e0>"
      ]
     },
     "execution_count": 22,
     "metadata": {},
     "output_type": "execute_result"
    },
    {
     "data": {
      "image/png": "[encoded data removed]",
      "text/plain": [
       "<Figure size 432x288 with 1 Axes>"
      ]
     },
     "metadata": {
      "needs_background": "light"
     },
     "output_type": "display_data"
    }
   ],
   "source": [
    "plt.imshow(gen_imgs_test[14, :, :, 0])"
   ]
  },
  {
   "cell_type": "code",
   "execution_count": 23,
   "metadata": {},
   "outputs": [
    {
     "name": "stdout",
     "output_type": "stream",
     "text": [
      "200/200 [==============================] - 1s 3ms/step\n",
      "[0.06415615737438202, 1.0]\n",
      "200/200 [==============================] - 0s 206us/step\n",
      "[2.782241926193237, 0.0]\n",
      "[[0.05714846]\n",
      " [0.06010842]\n",
      " [0.06419629]\n",
      " [0.06637952]\n",
      " [0.06659725]\n",
      " [0.06217727]\n",
      " [0.05767006]\n",
      " [0.06258473]\n",
      " [0.06745706]\n",
      " [0.06498551]]\n",
      "[[0.0638662 ]\n",
      " [0.06121889]\n",
      " [0.0606291 ]\n",
      " [0.06597561]\n",
      " [0.0606896 ]\n",
      " [0.05862856]\n",
      " [0.06901968]\n",
      " [0.06437418]\n",
      " [0.06937346]\n",
      " [0.06401864]]\n"
     ]
    }
   ],
   "source": [
    "print(dcgan.discriminator.evaluate(gen_imgs_test, np.zeros(len(gen_imgs_test))))\n",
    "print(dcgan.discriminator.evaluate(Y_test, np.ones(len(gen_imgs_test))))\n",
    "print(dcgan.discriminator.predict(Y_test[0:10]))\n",
    "print(dcgan.discriminator.predict(gen_imgs_test[0:10]))"
   ]
  },
  {
   "cell_type": "code",
   "execution_count": 9,
   "metadata": {},
   "outputs": [
    {
     "name": "stdout",
     "output_type": "stream",
     "text": [
      "200/200 [==============================] - 0s 203us/step\n"
     ]
    }
   ],
   "source": [
    "val = dcgan.discriminator.evaluate(Y_test, np.ones(len(gen_imgs_test)))"
   ]
  },
  {
   "cell_type": "code",
   "execution_count": 10,
   "metadata": {},
   "outputs": [
    {
     "name": "stdout",
     "output_type": "stream",
     "text": [
      "[4.97561653137207, 0.0]\n"
     ]
    }
   ],
   "source": [
    "print(val)"
   ]
  },
  {
   "cell_type": "code",
   "execution_count": 11,
   "metadata": {},
   "outputs": [
    {
     "name": "stdout",
     "output_type": "stream",
     "text": [
      "200/200 [==============================] - 0s 197us/step\n",
      "[0.00819761399179697, 1.0]\n"
     ]
    }
   ],
   "source": [
    "val = dcgan.discriminator.evaluate(gen_imgs_test, np.zeros(len(gen_imgs_test)))\n",
    "print(val)"
   ]
  },
  {
   "cell_type": "code",
   "execution_count": 12,
   "metadata": {},
   "outputs": [],
   "source": [
    "batch_size = 32\n",
    "half_batch = batch_size // 2\n",
    "ind_batch = np.random.randint(0, X_train.shape[0], batch_size)\n",
    "idx = np.random.randint(0, X_train.shape[0], half_batch)\n",
    "imgs = Y_train[idx]\n",
    "idx = np.random.randint(0, X_train.shape[0], half_batch)\n",
    "gen_imgs = dcgan.generator.predict(X_train[idx])\n",
    "target_real = np.ones((half_batch, 1))\n",
    "target_fake = np.zeros((half_batch, 1))\n",
    "dcgan.discriminator.trainable=False\n",
    "d_loss_real = dcgan.discriminator.test_on_batch(imgs, target_real)\n",
    "d_loss_fake = dcgan.discriminator.test_on_batch(gen_imgs, target_fake)"
   ]
  },
  {
   "cell_type": "code",
   "execution_count": 13,
   "metadata": {},
   "outputs": [
    {
     "name": "stdout",
     "output_type": "stream",
     "text": [
      "200/200 [==============================] - 0s 203us/step\n",
      "[0.00819761399179697, 1.0]\n"
     ]
    }
   ],
   "source": [
    "val = dcgan.discriminator.evaluate(gen_imgs_test, np.zeros(len(gen_imgs_test)))\n",
    "print(val)"
   ]
  },
  {
   "cell_type": "code",
   "execution_count": 14,
   "metadata": {},
   "outputs": [
    {
     "name": "stdout",
     "output_type": "stream",
     "text": [
      "16/16 [==============================] - 0s 264us/step\n",
      "[3.6499815, 0.0] [1.2441191673278809, 0.4375]\n",
      "16/16 [==============================] - 0s 238us/step\n",
      "[0.12970498, 1.0] [0.33273419737815857, 0.875]\n"
     ]
    }
   ],
   "source": [
    "d_loss_real = dcgan.discriminator.train_on_batch(imgs, target_real)\n",
    "print(d_loss_real, dcgan.discriminator.evaluate(imgs, target_real))\n",
    "d_loss_fake = dcgan.discriminator.train_on_batch(gen_imgs, target_fake)\n",
    "print(d_loss_fake, dcgan.discriminator.evaluate(gen_imgs, target_fake))\n",
    "d_loss_real = dcgan.discriminator.test_on_batch(imgs, target_real)\n",
    "d_loss_fake = dcgan.discriminator.test_on_batch(gen_imgs, target_fake)"
   ]
  },
  {
   "cell_type": "code",
   "execution_count": 15,
   "metadata": {},
   "outputs": [
    {
     "name": "stdout",
     "output_type": "stream",
     "text": [
      "200/200 [==============================] - 0s 200us/step\n",
      "[1.3739714241027832, 0.37]\n"
     ]
    }
   ],
   "source": [
    "val = dcgan.discriminator.evaluate(Y_test, np.ones(len(gen_imgs_test)))\n",
    "print(val)"
   ]
  },
  {
   "cell_type": "code",
   "execution_count": 16,
   "metadata": {},
   "outputs": [
    {
     "name": "stdout",
     "output_type": "stream",
     "text": [
      "200/200 [==============================] - 0s 202us/step\n",
      "[0.3279931089282036, 0.825]\n"
     ]
    }
   ],
   "source": [
    "val = dcgan.discriminator.evaluate(gen_imgs_test, np.zeros(len(gen_imgs_test)))\n",
    "print(val)"
   ]
  },
  {
   "cell_type": "code",
   "execution_count": 17,
   "metadata": {},
   "outputs": [
    {
     "name": "stdout",
     "output_type": "stream",
     "text": [
      "[[0.17726797]\n",
      " [0.07036072]\n",
      " [0.6384798 ]\n",
      " [0.86451197]\n",
      " [0.22291681]\n",
      " [0.54710656]\n",
      " [0.2626378 ]\n",
      " [0.5647286 ]\n",
      " [0.68569225]\n",
      " [0.34892017]]\n",
      "[[0.45363125]\n",
      " [0.37314457]\n",
      " [0.01217267]\n",
      " [0.17214519]\n",
      " [0.12201146]\n",
      " [0.01411968]]\n"
     ]
    }
   ],
   "source": [
    "print(dcgan.discriminator.predict(Y_test[0:10]))\n",
    "print(dcgan.discriminator.predict(gen_imgs_test[0:6]))"
   ]
  },
  {
   "cell_type": "code",
   "execution_count": null,
   "metadata": {},
   "outputs": [],
   "source": []
  }
 ],
 "metadata": {
  "kernelspec": {
   "display_name": "tensorflow-gpu/1.13.1-py36",
   "language": "python",
   "name": "tensorflow_gpu_1.13.1_py36"
  },
  "language_info": {
   "codemirror_mode": {
    "name": "ipython",
    "version": 3
   },
   "file_extension": ".py",
   "mimetype": "text/x-python",
   "name": "python",
   "nbconvert_exporter": "python",
   "pygments_lexer": "ipython3",
   "version": "3.6.5"
  }
 },
 "nbformat": 4,
 "nbformat_minor": 4
}
