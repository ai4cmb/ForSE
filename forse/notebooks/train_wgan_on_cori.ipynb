{
 "cells": [
  {
   "cell_type": "code",
   "execution_count": 1,
   "metadata": {},
   "outputs": [
    {
     "name": "stderr",
     "output_type": "stream",
     "text": [
      "Using TensorFlow backend.\n"
     ]
    }
   ],
   "source": [
    "from forse.networks.wgan import *\n",
    "import matplotlib.pyplot as plt\n",
    "from forse.tools import *"
   ]
  },
  {
   "cell_type": "code",
   "execution_count": 2,
   "metadata": {},
   "outputs": [],
   "source": [
    "wgan = WGAN(output_directory='/global/homes/k/krach/scratch/NNforFG/WGAN/tests', img_size=(64, 64))"
   ]
  },
  {
   "cell_type": "code",
   "execution_count": 3,
   "metadata": {},
   "outputs": [],
   "source": [
    "training_path = '/global/homes/k/krach/scratch/NNforFG/training_set/'\n",
    "training_file = 'training_set_1000patches_20x20deg_T_HR1deg_LR5deg_Npix64_set2.npy'\n",
    "patch_file = training_path+training_file"
   ]
  },
  {
   "cell_type": "code",
   "execution_count": 4,
   "metadata": {},
   "outputs": [
    {
     "name": "stdout",
     "output_type": "stream",
     "text": [
      "WARNING:tensorflow:From /usr/common/software/tensorflow/gpu-tensorflow/1.13.1-py36/lib/python3.6/site-packages/tensorflow/python/framework/op_def_library.py:263: colocate_with (from tensorflow.python.framework.ops) is deprecated and will be removed in a future version.\n",
      "Instructions for updating:\n",
      "Colocations handled automatically by placer.\n",
      "WARNING:tensorflow:From /usr/common/software/tensorflow/gpu-tensorflow/1.13.1-py36/lib/python3.6/site-packages/keras/backend/tensorflow_backend.py:3445: calling dropout (from tensorflow.python.ops.nn_ops) with keep_prob is deprecated and will be removed in a future version.\n",
      "Instructions for updating:\n",
      "Please use `rate` instead of `keep_prob`. Rate should be set to `rate = 1 - keep_prob`.\n",
      "Training Data Shape:  (800, 64, 64, 1)\n"
     ]
    },
    {
     "name": "stderr",
     "output_type": "stream",
     "text": [
      "/usr/common/software/tensorflow/gpu-tensorflow/1.13.1-py36/lib/python3.6/site-packages/keras/engine/training.py:490: UserWarning: Discrepancy between trainable weights and collected trainable weights, did you set `model.trainable` without calling `model.compile` after ?\n",
      "  'Discrepancy between trainable weights and collected trainable'\n"
     ]
    },
    {
     "name": "stdout",
     "output_type": "stream",
     "text": [
      "0 [D loss: 4.368519876152277e-05 | D Accuracy: 0.0] [G loss: [-0.0010592461, 0.0]]\n",
      "10 [D loss: -0.00010423548519611359 | D Accuracy: 0.0] [G loss: [0.001650362, 0.0]]\n",
      "20 [D loss: -0.010551948100328445 | D Accuracy: 0.0] [G loss: [0.08506736, 0.0]]\n",
      "30 [D loss: -0.112027108669281 | D Accuracy: 3.125] [G loss: [0.5054136, 0.46875]]\n",
      "40 [D loss: -0.25139719247817993 | D Accuracy: 10.9375] [G loss: [0.91063553, 1.0]]\n",
      "50 [D loss: -0.1426854133605957 | D Accuracy: 20.3125] [G loss: [1.0642171, 1.0]]\n",
      "60 [D loss: 0.0033985674381256104 | D Accuracy: 17.1875] [G loss: [0.49527776, 0.5]]\n",
      "70 [D loss: 0.015399977564811707 | D Accuracy: 1.5625] [G loss: [0.29791176, 0.0]]\n",
      "80 [D loss: 0.060829970985651016 | D Accuracy: 0.0] [G loss: [0.15228716, 0.0]]\n",
      "90 [D loss: 0.011998511850833893 | D Accuracy: 0.0] [G loss: [0.10229594, 0.0]]\n",
      "100 [D loss: 0.004777227528393269 | D Accuracy: 0.0] [G loss: [0.027814625, 0.0]]\n",
      "110 [D loss: -0.0006507635116577148 | D Accuracy: 0.0] [G loss: [0.011287931, 0.0]]\n",
      "120 [D loss: -0.009209465235471725 | D Accuracy: 0.0] [G loss: [0.004899989, 0.0]]\n",
      "130 [D loss: -0.029651865363121033 | D Accuracy: 0.0] [G loss: [0.018344551, 0.0]]\n",
      "140 [D loss: -0.013417590409517288 | D Accuracy: 0.0] [G loss: [-0.0063114148, 0.0]]\n",
      "150 [D loss: -0.009902339428663254 | D Accuracy: 0.0] [G loss: [-0.04026479, 0.0]]\n",
      "160 [D loss: 0.009691879153251648 | D Accuracy: 0.0] [G loss: [-0.054784298, 0.0]]\n",
      "170 [D loss: 0.009532157331705093 | D Accuracy: 0.0] [G loss: [-0.05930813, 0.0]]\n",
      "180 [D loss: 0.010209836065769196 | D Accuracy: 0.0] [G loss: [-0.09574323, 0.0]]\n",
      "190 [D loss: 0.008652880787849426 | D Accuracy: 0.0] [G loss: [-0.09141828, 0.0]]\n",
      "200 [D loss: 0.006465587764978409 | D Accuracy: 0.0] [G loss: [-0.055649437, 0.0]]\n",
      "210 [D loss: 0.005836544558405876 | D Accuracy: 0.0] [G loss: [-0.041289266, 0.0]]\n",
      "220 [D loss: 0.003049589693546295 | D Accuracy: 0.0] [G loss: [-0.028191842, 0.0]]\n",
      "230 [D loss: 0.004176420159637928 | D Accuracy: 0.0] [G loss: [-0.019509222, 0.0]]\n",
      "240 [D loss: -0.00022224150598049164 | D Accuracy: 0.0] [G loss: [-0.0156356, 0.0]]\n",
      "250 [D loss: -0.003744974732398987 | D Accuracy: 0.0] [G loss: [-0.0075561544, 0.0]]\n",
      "260 [D loss: -0.00482066348195076 | D Accuracy: 0.0] [G loss: [0.0051429477, 0.0]]\n",
      "270 [D loss: -0.008234706707298756 | D Accuracy: 0.0] [G loss: [0.03877197, 0.0]]\n",
      "280 [D loss: -0.004897686652839184 | D Accuracy: 0.0] [G loss: [0.03297834, 0.0]]\n",
      "290 [D loss: -0.0036279098130762577 | D Accuracy: 0.0] [G loss: [0.040757783, 0.0]]\n",
      "300 [D loss: -0.010648833587765694 | D Accuracy: 0.0] [G loss: [0.05312881, 0.0]]\n",
      "310 [D loss: -0.01242257934063673 | D Accuracy: 0.0] [G loss: [0.06214198, 0.0]]\n",
      "320 [D loss: -0.009182865731418133 | D Accuracy: 0.0] [G loss: [0.04467637, 0.0]]\n",
      "330 [D loss: -0.012874437496066093 | D Accuracy: 0.0] [G loss: [0.03560257, 0.0]]\n",
      "340 [D loss: -0.0098032271489501 | D Accuracy: 0.0] [G loss: [0.049406238, 0.0]]\n",
      "350 [D loss: -0.013344044797122478 | D Accuracy: 0.0] [G loss: [0.04928953, 0.0]]\n",
      "360 [D loss: -0.01487042661756277 | D Accuracy: 0.0] [G loss: [0.05112978, 0.0]]\n",
      "370 [D loss: -0.010083995759487152 | D Accuracy: 0.0] [G loss: [0.027532548, 0.0]]\n",
      "380 [D loss: -0.022261086851358414 | D Accuracy: 0.0] [G loss: [0.03352943, 0.0]]\n",
      "390 [D loss: -0.021619975566864014 | D Accuracy: 0.0] [G loss: [0.016754746, 0.0]]\n",
      "400 [D loss: -0.02918700873851776 | D Accuracy: 0.0] [G loss: [0.028250316, 0.0]]\n",
      "410 [D loss: -0.009082844480872154 | D Accuracy: 0.0] [G loss: [-0.008252064, 0.0]]\n",
      "420 [D loss: -0.024167172610759735 | D Accuracy: 0.0] [G loss: [-0.004233889, 0.0]]\n",
      "430 [D loss: -0.020648982375860214 | D Accuracy: 0.0] [G loss: [-0.0109218, 0.0]]\n",
      "440 [D loss: -0.04139534384012222 | D Accuracy: 0.0] [G loss: [0.008370377, 0.0]]\n",
      "450 [D loss: -0.02904149889945984 | D Accuracy: 0.0] [G loss: [-0.015597308, 0.0]]\n",
      "460 [D loss: -0.036655813455581665 | D Accuracy: 0.0] [G loss: [-0.013792839, 0.0]]\n",
      "470 [D loss: -0.017831694334745407 | D Accuracy: 0.0] [G loss: [-0.0291971, 0.0]]\n",
      "480 [D loss: -0.023697959259152412 | D Accuracy: 0.0] [G loss: [-0.022220986, 0.0]]\n",
      "490 [D loss: -0.031110119074583054 | D Accuracy: 0.0] [G loss: [-0.017377358, 0.0]]\n",
      "500 [D loss: -0.014999091625213623 | D Accuracy: 0.0] [G loss: [-0.04289312, 0.0]]\n",
      "510 [D loss: -0.014372454956173897 | D Accuracy: 0.0] [G loss: [-0.018481798, 0.0]]\n",
      "520 [D loss: -0.025943398475646973 | D Accuracy: 0.0] [G loss: [-0.04286821, 0.0]]\n",
      "530 [D loss: -0.023829661309719086 | D Accuracy: 0.0] [G loss: [-0.046325505, 0.0]]\n",
      "540 [D loss: -0.029826506972312927 | D Accuracy: 0.0] [G loss: [0.0008635591, 0.0]]\n",
      "550 [D loss: -0.013452429324388504 | D Accuracy: 0.0] [G loss: [-0.061435707, 0.0]]\n",
      "560 [D loss: -0.027274031192064285 | D Accuracy: 0.0] [G loss: [-0.055572413, 0.0]]\n",
      "570 [D loss: -0.024912314489483833 | D Accuracy: 0.0] [G loss: [0.0012978564, 0.0]]\n",
      "580 [D loss: -0.025976600125432014 | D Accuracy: 0.0] [G loss: [-0.036822587, 0.0]]\n",
      "590 [D loss: -0.03171638026833534 | D Accuracy: 0.0] [G loss: [-0.059071414, 0.0]]\n",
      "600 [D loss: -0.02700364962220192 | D Accuracy: 0.0] [G loss: [-0.048218705, 0.0]]\n",
      "610 [D loss: -0.025353748351335526 | D Accuracy: 0.0] [G loss: [-0.027629387, 0.0]]\n",
      "620 [D loss: -0.0011968128383159637 | D Accuracy: 0.0] [G loss: [-0.061738655, 0.0]]\n",
      "630 [D loss: -0.002257954329252243 | D Accuracy: 0.0] [G loss: [-0.06927122, 0.0]]\n",
      "640 [D loss: -0.0002869628369808197 | D Accuracy: 0.0] [G loss: [-0.057459906, 0.0]]\n",
      "650 [D loss: -0.03649760037660599 | D Accuracy: 0.0] [G loss: [0.01098215, 0.0]]\n",
      "660 [D loss: -0.018985096365213394 | D Accuracy: 0.0] [G loss: [-0.026148457, 0.0]]\n",
      "670 [D loss: -0.01490667462348938 | D Accuracy: 0.0] [G loss: [-0.027671766, 0.0]]\n",
      "680 [D loss: -0.025067564100027084 | D Accuracy: 0.0] [G loss: [-0.023486726, 0.0]]\n",
      "690 [D loss: -0.050785694271326065 | D Accuracy: 0.0] [G loss: [0.0006495286, 0.0]]\n",
      "700 [D loss: -0.007383521646261215 | D Accuracy: 0.0] [G loss: [-0.057461504, 0.0]]\n",
      "710 [D loss: -0.02480006031692028 | D Accuracy: 0.0] [G loss: [-0.023666915, 0.0]]\n",
      "720 [D loss: -0.003366909921169281 | D Accuracy: 0.0] [G loss: [-0.045291796, 0.0]]\n",
      "730 [D loss: -0.017189636826515198 | D Accuracy: 0.0] [G loss: [-0.03998773, 0.0]]\n",
      "740 [D loss: -0.00884295254945755 | D Accuracy: 0.0] [G loss: [-0.050378107, 0.0]]\n",
      "750 [D loss: -0.017797235399484634 | D Accuracy: 0.0] [G loss: [-0.024550594, 0.0]]\n",
      "760 [D loss: -0.017596188932657242 | D Accuracy: 0.0] [G loss: [-0.009311216, 0.0]]\n",
      "770 [D loss: -0.023160871118307114 | D Accuracy: 0.0] [G loss: [-0.010321729, 0.0]]\n",
      "780 [D loss: -0.02051769196987152 | D Accuracy: 0.0] [G loss: [-0.012048846, 0.0]]\n",
      "790 [D loss: -0.01665884256362915 | D Accuracy: 0.0] [G loss: [-0.036191072, 0.0]]\n",
      "800 [D loss: -0.025676585733890533 | D Accuracy: 0.0] [G loss: [0.0021475926, 0.0]]\n",
      "810 [D loss: -0.025850575417280197 | D Accuracy: 0.0] [G loss: [-0.013466507, 0.0]]\n",
      "820 [D loss: -0.00853240117430687 | D Accuracy: 0.0] [G loss: [-0.04632465, 0.0]]\n",
      "830 [D loss: -0.01577676832675934 | D Accuracy: 0.0] [G loss: [-0.048066348, 0.0]]\n",
      "840 [D loss: -0.01969607174396515 | D Accuracy: 0.0] [G loss: [-0.028147776, 0.0]]\n",
      "850 [D loss: -0.006638342514634132 | D Accuracy: 0.0] [G loss: [-0.031239983, 0.0]]\n",
      "860 [D loss: -0.014915071427822113 | D Accuracy: 0.0] [G loss: [-0.020260613, 0.0]]\n",
      "870 [D loss: -0.02087637037038803 | D Accuracy: 0.0] [G loss: [-0.017121486, 0.0]]\n",
      "880 [D loss: -0.014962499961256981 | D Accuracy: 0.0] [G loss: [-0.019748963, 0.0]]\n",
      "890 [D loss: -0.027014095336198807 | D Accuracy: 0.0] [G loss: [-0.0032601035, 0.0]]\n",
      "900 [D loss: -0.01902713254094124 | D Accuracy: 0.0] [G loss: [-0.024497572, 0.0]]\n",
      "910 [D loss: -0.0250956229865551 | D Accuracy: 0.0] [G loss: [-0.013750926, 0.0]]\n",
      "920 [D loss: -0.020427074283361435 | D Accuracy: 0.0] [G loss: [-0.005521696, 0.0]]\n",
      "930 [D loss: -0.017405886203050613 | D Accuracy: 0.0] [G loss: [-0.02156709, 0.0]]\n",
      "940 [D loss: -0.025893744081258774 | D Accuracy: 0.0] [G loss: [0.00454604, 0.0]]\n",
      "950 [D loss: -0.02681337483227253 | D Accuracy: 0.0] [G loss: [-0.004727917, 0.0]]\n",
      "960 [D loss: -0.023749176412820816 | D Accuracy: 0.0] [G loss: [-0.024713658, 0.0]]\n",
      "970 [D loss: -0.016453422605991364 | D Accuracy: 0.0] [G loss: [-0.022926178, 0.0]]\n",
      "980 [D loss: -0.024533821269869804 | D Accuracy: 0.0] [G loss: [-0.014063684, 0.0]]\n",
      "990 [D loss: -0.03152903914451599 | D Accuracy: 0.0] [G loss: [-0.0034952126, 0.0]]\n"
     ]
    }
   ],
   "source": [
    "wgan.train(epochs=1000, patches_file=patch_file, batch_size=32, save_interval=10)"
   ]
  },
  {
   "cell_type": "code",
   "execution_count": null,
   "metadata": {},
   "outputs": [],
   "source": []
  }
 ],
 "metadata": {
  "kernelspec": {
   "display_name": "CMB 20191114",
   "language": "python",
   "name": "cmbenv-20191114"
  },
  "language_info": {
   "codemirror_mode": {
    "name": "ipython",
    "version": 3
   },
   "file_extension": ".py",
   "mimetype": "text/x-python",
   "name": "python",
   "nbconvert_exporter": "python",
   "pygments_lexer": "ipython3",
   "version": "3.6.9"
  }
 },
 "nbformat": 4,
 "nbformat_minor": 4
}
